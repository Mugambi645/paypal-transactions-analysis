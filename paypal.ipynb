{
 "cells": [
  {
   "cell_type": "markdown",
   "id": "4aad8038-1292-4c48-91ab-0134fa54ed37",
   "metadata": {},
   "source": [
    "<h3>PayPal Transaction Monitoring</h3>"
   ]
  },
  {
   "cell_type": "code",
   "execution_count": 1,
   "id": "b192616e-d46c-4608-8b28-adbc955d2be7",
   "metadata": {},
   "outputs": [],
   "source": [
    "# import libraries\n",
    "import pandas as pd\n",
    "import numpy as np\n",
    "import datetime\n",
    "from datetime import date, timedelta\n"
   ]
  },
  {
   "cell_type": "code",
   "execution_count": 2,
   "id": "d10604de-7a78-4300-86e9-943f3fd3be9a",
   "metadata": {},
   "outputs": [],
   "source": [
    "# import dataset\n",
    "dfpreclean = pd.read_csv(\"data/Paypal_Transactions3.csv\")"
   ]
  },
  {
   "cell_type": "code",
   "execution_count": 3,
   "id": "a7cb38f7-de39-4232-a91f-9fb10272389a",
   "metadata": {},
   "outputs": [
    {
     "data": {
      "text/html": [
       "<div>\n",
       "<style scoped>\n",
       "    .dataframe tbody tr th:only-of-type {\n",
       "        vertical-align: middle;\n",
       "    }\n",
       "\n",
       "    .dataframe tbody tr th {\n",
       "        vertical-align: top;\n",
       "    }\n",
       "\n",
       "    .dataframe thead th {\n",
       "        text-align: right;\n",
       "    }\n",
       "</style>\n",
       "<table border=\"1\" class=\"dataframe\">\n",
       "  <thead>\n",
       "    <tr style=\"text-align: right;\">\n",
       "      <th></th>\n",
       "      <th>Transaction_ID</th>\n",
       "      <th>Type</th>\n",
       "      <th>Transaction_Type</th>\n",
       "      <th>Customer_Name</th>\n",
       "      <th>Total</th>\n",
       "      <th>Success</th>\n",
       "      <th>Day</th>\n",
       "      <th>Transaction_Notes</th>\n",
       "      <th>Source</th>\n",
       "      <th>Country</th>\n",
       "      <th>Auth_code</th>\n",
       "    </tr>\n",
       "  </thead>\n",
       "  <tbody>\n",
       "    <tr>\n",
       "      <th>0</th>\n",
       "      <td>1234567</td>\n",
       "      <td>Charge</td>\n",
       "      <td>Goods and Services</td>\n",
       "      <td>James</td>\n",
       "      <td>3286</td>\n",
       "      <td>1</td>\n",
       "      <td>1/2/2023</td>\n",
       "      <td>Thanks</td>\n",
       "      <td>Tablet</td>\n",
       "      <td>US</td>\n",
       "      <td>X8JZG7YH</td>\n",
       "    </tr>\n",
       "    <tr>\n",
       "      <th>1</th>\n",
       "      <td>9876543</td>\n",
       "      <td>Refund</td>\n",
       "      <td>Friends &amp; Family</td>\n",
       "      <td>Emily</td>\n",
       "      <td>1624</td>\n",
       "      <td>1</td>\n",
       "      <td>1/3/2023</td>\n",
       "      <td>Raffle</td>\n",
       "      <td>Phone</td>\n",
       "      <td>US</td>\n",
       "      <td>D2F3R6KP</td>\n",
       "    </tr>\n",
       "    <tr>\n",
       "      <th>2</th>\n",
       "      <td>4567890</td>\n",
       "      <td>Charge</td>\n",
       "      <td>Goods and Services</td>\n",
       "      <td>Liam</td>\n",
       "      <td>2659</td>\n",
       "      <td>1</td>\n",
       "      <td>1/4/2023</td>\n",
       "      <td>Thanks</td>\n",
       "      <td>Desktop</td>\n",
       "      <td>US</td>\n",
       "      <td>Q9L4T1VW</td>\n",
       "    </tr>\n",
       "    <tr>\n",
       "      <th>3</th>\n",
       "      <td>7654321</td>\n",
       "      <td>Charge</td>\n",
       "      <td>Goods and Services</td>\n",
       "      <td>Olivia</td>\n",
       "      <td>4897</td>\n",
       "      <td>1</td>\n",
       "      <td>1/5/2023</td>\n",
       "      <td>Thanks</td>\n",
       "      <td>Phone</td>\n",
       "      <td>US</td>\n",
       "      <td>M7N5P0QI</td>\n",
       "    </tr>\n",
       "    <tr>\n",
       "      <th>4</th>\n",
       "      <td>2345678</td>\n",
       "      <td>Charge</td>\n",
       "      <td>Friends &amp; Family</td>\n",
       "      <td>Benjamin</td>\n",
       "      <td>3643</td>\n",
       "      <td>1</td>\n",
       "      <td>1/6/2023</td>\n",
       "      <td>Thanks</td>\n",
       "      <td>Desktop</td>\n",
       "      <td>UK</td>\n",
       "      <td>B6K8D3XJ</td>\n",
       "    </tr>\n",
       "  </tbody>\n",
       "</table>\n",
       "</div>"
      ],
      "text/plain": [
       "  Transaction_ID    Type    Transaction_Type Customer_Name  Total  Success  \\\n",
       "0        1234567  Charge  Goods and Services         James   3286        1   \n",
       "1        9876543  Refund    Friends & Family         Emily   1624        1   \n",
       "2        4567890  Charge  Goods and Services          Liam   2659        1   \n",
       "3        7654321  Charge  Goods and Services        Olivia   4897        1   \n",
       "4        2345678  Charge    Friends & Family      Benjamin   3643        1   \n",
       "\n",
       "        Day Transaction_Notes   Source Country Auth_code  \n",
       "0  1/2/2023            Thanks   Tablet      US  X8JZG7YH  \n",
       "1  1/3/2023            Raffle    Phone      US  D2F3R6KP  \n",
       "2  1/4/2023            Thanks  Desktop      US  Q9L4T1VW  \n",
       "3  1/5/2023            Thanks    Phone      US  M7N5P0QI  \n",
       "4  1/6/2023            Thanks  Desktop      UK  B6K8D3XJ  "
      ]
     },
     "execution_count": 3,
     "metadata": {},
     "output_type": "execute_result"
    }
   ],
   "source": [
    "dfpreclean.head()"
   ]
  },
  {
   "cell_type": "code",
   "execution_count": 4,
   "id": "b3394081-f553-462a-bcda-06cdf6d582f0",
   "metadata": {},
   "outputs": [],
   "source": [
    "# Drop unimportant columns\n",
    "dfpreclean.drop([\"Transaction_ID\", \"Auth_code\"], axis=1, inplace=True)"
   ]
  },
  {
   "cell_type": "code",
   "execution_count": 5,
   "id": "d2f8ed3c-cf6b-4fab-8c8b-ee27b23ab2cc",
   "metadata": {},
   "outputs": [
    {
     "data": {
      "text/html": [
       "<div>\n",
       "<style scoped>\n",
       "    .dataframe tbody tr th:only-of-type {\n",
       "        vertical-align: middle;\n",
       "    }\n",
       "\n",
       "    .dataframe tbody tr th {\n",
       "        vertical-align: top;\n",
       "    }\n",
       "\n",
       "    .dataframe thead th {\n",
       "        text-align: right;\n",
       "    }\n",
       "</style>\n",
       "<table border=\"1\" class=\"dataframe\">\n",
       "  <thead>\n",
       "    <tr style=\"text-align: right;\">\n",
       "      <th></th>\n",
       "      <th>Type</th>\n",
       "      <th>Transaction_Type</th>\n",
       "      <th>Customer_Name</th>\n",
       "      <th>Total</th>\n",
       "      <th>Success</th>\n",
       "      <th>Day</th>\n",
       "      <th>Transaction_Notes</th>\n",
       "      <th>Source</th>\n",
       "      <th>Country</th>\n",
       "    </tr>\n",
       "  </thead>\n",
       "  <tbody>\n",
       "    <tr>\n",
       "      <th>0</th>\n",
       "      <td>Charge</td>\n",
       "      <td>Goods and Services</td>\n",
       "      <td>James</td>\n",
       "      <td>3286</td>\n",
       "      <td>1</td>\n",
       "      <td>1/2/2023</td>\n",
       "      <td>Thanks</td>\n",
       "      <td>Tablet</td>\n",
       "      <td>US</td>\n",
       "    </tr>\n",
       "    <tr>\n",
       "      <th>1</th>\n",
       "      <td>Refund</td>\n",
       "      <td>Friends &amp; Family</td>\n",
       "      <td>Emily</td>\n",
       "      <td>1624</td>\n",
       "      <td>1</td>\n",
       "      <td>1/3/2023</td>\n",
       "      <td>Raffle</td>\n",
       "      <td>Phone</td>\n",
       "      <td>US</td>\n",
       "    </tr>\n",
       "    <tr>\n",
       "      <th>2</th>\n",
       "      <td>Charge</td>\n",
       "      <td>Goods and Services</td>\n",
       "      <td>Liam</td>\n",
       "      <td>2659</td>\n",
       "      <td>1</td>\n",
       "      <td>1/4/2023</td>\n",
       "      <td>Thanks</td>\n",
       "      <td>Desktop</td>\n",
       "      <td>US</td>\n",
       "    </tr>\n",
       "  </tbody>\n",
       "</table>\n",
       "</div>"
      ],
      "text/plain": [
       "     Type    Transaction_Type Customer_Name  Total  Success       Day  \\\n",
       "0  Charge  Goods and Services         James   3286        1  1/2/2023   \n",
       "1  Refund    Friends & Family         Emily   1624        1  1/3/2023   \n",
       "2  Charge  Goods and Services          Liam   2659        1  1/4/2023   \n",
       "\n",
       "  Transaction_Notes   Source Country  \n",
       "0            Thanks   Tablet      US  \n",
       "1            Raffle    Phone      US  \n",
       "2            Thanks  Desktop      US  "
      ]
     },
     "execution_count": 5,
     "metadata": {},
     "output_type": "execute_result"
    }
   ],
   "source": [
    "dfpreclean.head(3)"
   ]
  },
  {
   "cell_type": "code",
   "execution_count": 6,
   "id": "1633b742-3248-43f1-b95b-a1bb46c19917",
   "metadata": {},
   "outputs": [],
   "source": [
    "# check succesfull transaction\n",
    "dfpreclean2 = dfpreclean[dfpreclean[\"Success\"] == 1]\n"
   ]
  },
  {
   "cell_type": "code",
   "execution_count": 7,
   "id": "05f26b94-47b3-4491-b65f-ea463186950d",
   "metadata": {},
   "outputs": [
    {
     "name": "stderr",
     "output_type": "stream",
     "text": [
      "/tmp/ipykernel_44823/2508074308.py:2: FutureWarning: A value is trying to be set on a copy of a DataFrame or Series through chained assignment using an inplace method.\n",
      "The behavior will change in pandas 3.0. This inplace method will never work because the intermediate object on which we are setting values always behaves as a copy.\n",
      "\n",
      "For example, when doing 'df[col].method(value, inplace=True)', try using 'df.method({col: value}, inplace=True)' or df[col] = df[col].method(value) instead, to perform the operation inplace on the original object.\n",
      "\n",
      "\n",
      "  dfpreclean2[\"Transaction_Notes\"].fillna(\"N/A\", inplace=True)\n",
      "/tmp/ipykernel_44823/2508074308.py:2: SettingWithCopyWarning: \n",
      "A value is trying to be set on a copy of a slice from a DataFrame\n",
      "\n",
      "See the caveats in the documentation: https://pandas.pydata.org/pandas-docs/stable/user_guide/indexing.html#returning-a-view-versus-a-copy\n",
      "  dfpreclean2[\"Transaction_Notes\"].fillna(\"N/A\", inplace=True)\n"
     ]
    }
   ],
   "source": [
    "# Replace NAN values in Transaction_Notes column with N/A\n",
    "dfpreclean2[\"Transaction_Notes\"].fillna(\"N/A\", inplace=True)"
   ]
  },
  {
   "cell_type": "code",
   "execution_count": 8,
   "id": "57d92d9d-2130-401e-9ea1-7e89001062ff",
   "metadata": {},
   "outputs": [
    {
     "name": "stderr",
     "output_type": "stream",
     "text": [
      "/tmp/ipykernel_44823/929889925.py:1: SettingWithCopyWarning: \n",
      "A value is trying to be set on a copy of a slice from a DataFrame.\n",
      "Try using .loc[row_indexer,col_indexer] = value instead\n",
      "\n",
      "See the caveats in the documentation: https://pandas.pydata.org/pandas-docs/stable/user_guide/indexing.html#returning-a-view-versus-a-copy\n",
      "  dfpreclean2[\"Day\"] = pd.to_datetime(dfpreclean2[\"Day\"])\n"
     ]
    }
   ],
   "source": [
    "dfpreclean2[\"Day\"] = pd.to_datetime(dfpreclean2[\"Day\"])\n"
   ]
  },
  {
   "cell_type": "code",
   "execution_count": 9,
   "id": "dd4cd2e9-20c2-4d68-bd9b-6ee14c113eac",
   "metadata": {},
   "outputs": [
    {
     "data": {
      "text/plain": [
       "Index(['Type', 'Transaction_Type', 'Customer_Name', 'Total', 'Success', 'Day',\n",
       "       'Transaction_Notes', 'Source', 'Country'],\n",
       "      dtype='object')"
      ]
     },
     "execution_count": 9,
     "metadata": {},
     "output_type": "execute_result"
    }
   ],
   "source": [
    "# Check columns\n",
    "dfpreclean2.columns"
   ]
  },
  {
   "cell_type": "code",
   "execution_count": 10,
   "id": "04fa6b7e-c0fd-4b98-a0b7-0f81acc11977",
   "metadata": {},
   "outputs": [],
   "source": [
    "# Change the column order\n",
    "df = dfpreclean2.loc[:, ['Total', 'Transaction_Type', 'Type', 'Country', 'Source', 'Day',\n",
    "       'Customer_Name', 'Success', 'Transaction_Notes']]"
   ]
  },
  {
   "cell_type": "code",
   "execution_count": 11,
   "id": "2c38d96b-4117-4ef8-8119-b3142e924858",
   "metadata": {},
   "outputs": [
    {
     "data": {
      "text/html": [
       "<div>\n",
       "<style scoped>\n",
       "    .dataframe tbody tr th:only-of-type {\n",
       "        vertical-align: middle;\n",
       "    }\n",
       "\n",
       "    .dataframe tbody tr th {\n",
       "        vertical-align: top;\n",
       "    }\n",
       "\n",
       "    .dataframe thead th {\n",
       "        text-align: right;\n",
       "    }\n",
       "</style>\n",
       "<table border=\"1\" class=\"dataframe\">\n",
       "  <thead>\n",
       "    <tr style=\"text-align: right;\">\n",
       "      <th></th>\n",
       "      <th>Total</th>\n",
       "      <th>Transaction_Type</th>\n",
       "      <th>Type</th>\n",
       "      <th>Country</th>\n",
       "      <th>Source</th>\n",
       "      <th>Day</th>\n",
       "      <th>Customer_Name</th>\n",
       "      <th>Success</th>\n",
       "      <th>Transaction_Notes</th>\n",
       "    </tr>\n",
       "  </thead>\n",
       "  <tbody>\n",
       "    <tr>\n",
       "      <th>0</th>\n",
       "      <td>3286</td>\n",
       "      <td>Goods and Services</td>\n",
       "      <td>Charge</td>\n",
       "      <td>US</td>\n",
       "      <td>Tablet</td>\n",
       "      <td>2023-01-02</td>\n",
       "      <td>James</td>\n",
       "      <td>1</td>\n",
       "      <td>Thanks</td>\n",
       "    </tr>\n",
       "    <tr>\n",
       "      <th>1</th>\n",
       "      <td>1624</td>\n",
       "      <td>Friends &amp; Family</td>\n",
       "      <td>Refund</td>\n",
       "      <td>US</td>\n",
       "      <td>Phone</td>\n",
       "      <td>2023-01-03</td>\n",
       "      <td>Emily</td>\n",
       "      <td>1</td>\n",
       "      <td>Raffle</td>\n",
       "    </tr>\n",
       "    <tr>\n",
       "      <th>2</th>\n",
       "      <td>2659</td>\n",
       "      <td>Goods and Services</td>\n",
       "      <td>Charge</td>\n",
       "      <td>US</td>\n",
       "      <td>Desktop</td>\n",
       "      <td>2023-01-04</td>\n",
       "      <td>Liam</td>\n",
       "      <td>1</td>\n",
       "      <td>Thanks</td>\n",
       "    </tr>\n",
       "  </tbody>\n",
       "</table>\n",
       "</div>"
      ],
      "text/plain": [
       "   Total    Transaction_Type    Type Country   Source        Day  \\\n",
       "0   3286  Goods and Services  Charge      US   Tablet 2023-01-02   \n",
       "1   1624    Friends & Family  Refund      US    Phone 2023-01-03   \n",
       "2   2659  Goods and Services  Charge      US  Desktop 2023-01-04   \n",
       "\n",
       "  Customer_Name  Success Transaction_Notes  \n",
       "0         James        1            Thanks  \n",
       "1         Emily        1            Raffle  \n",
       "2          Liam        1            Thanks  "
      ]
     },
     "execution_count": 11,
     "metadata": {},
     "output_type": "execute_result"
    }
   ],
   "source": [
    "df.head(3)"
   ]
  },
  {
   "cell_type": "code",
   "execution_count": 12,
   "id": "a9a67b8f-8b65-47c5-be0b-529aa7554fdc",
   "metadata": {},
   "outputs": [],
   "source": [
    "# Sum of all transactions\n",
    "totalsum = np.sum(df['Total'])\n",
    "total_transactions = df['Type'].count()\n",
    "\n",
    "mean_transaction = np.mean(df['Total'])\n",
    "median_transaction = np.median(df['Total'])\n",
    "max_transaction = np.max(df['Total'])\n",
    "#total_unique_customers = df[\"Customer_Name\"].nunique()"
   ]
  },
  {
   "cell_type": "code",
   "execution_count": 13,
   "id": "08728247-436f-42bc-92c4-cbf15cfe8303",
   "metadata": {},
   "outputs": [],
   "source": [
    "chargeonlytransactions = df[df[\"Type\"] == \"Charge\"]\n",
    "refundonlytransactions = df[df[\"Type\"] == \"Refund\"]\n",
    "chargebackonlytransactions = df[df[\"Type\"] == \"Chargeback\"]\n"
   ]
  },
  {
   "cell_type": "code",
   "execution_count": 14,
   "id": "ad1fa4d4-b13b-4e2d-9b2e-9cf9915e94bf",
   "metadata": {},
   "outputs": [],
   "source": [
    "days90 = pd.to_datetime(date.today() - timedelta(days=90))\n",
    "days180 = pd.to_datetime(date.today() - timedelta(days=180))\n"
   ]
  },
  {
   "cell_type": "code",
   "execution_count": 15,
   "id": "872fe779-e076-4b08-9aed-c8ecba55b0ee",
   "metadata": {},
   "outputs": [],
   "source": [
    "chargetotal = np.sum(chargeonlytransactions[\"Total\"])\n",
    "charge90days = np.sum(chargeonlytransactions[chargeonlytransactions[\"Day\"] > days90][\"Total\"])\n",
    "\n",
    "charge180days = np.sum(chargeonlytransactions[chargeonlytransactions[\"Day\"] > days180][\"Total\"])\n"
   ]
  },
  {
   "cell_type": "code",
   "execution_count": 16,
   "id": "b8f82263-90d1-4a9a-9b74-00ff27fd4b9b",
   "metadata": {},
   "outputs": [],
   "source": [
    "refundtotal = np.sum(refundonlytransactions[\"Total\"])\n",
    "refund90days = np.sum(refundonlytransactions[refundonlytransactions[\"Day\"] > days90][\"Total\"])\n",
    "\n",
    "refund180days = np.sum(refundonlytransactions[refundonlytransactions[\"Day\"] > days180][\"Total\"])\n"
   ]
  },
  {
   "cell_type": "code",
   "execution_count": 17,
   "id": "6a38bf9c-f6e4-402a-946e-5edd396eb513",
   "metadata": {},
   "outputs": [],
   "source": [
    "chargebacktotal = np.sum(chargebackonlytransactions[\"Total\"])\n",
    "chargeback90days = np.sum(chargebackonlytransactions[chargebackonlytransactions[\"Day\"] > days90][\"Total\"])\n",
    "\n",
    "chargeback180days = np.sum(chargebackonlytransactions[chargebackonlytransactions[\"Day\"] > days180][\"Total\"])\n"
   ]
  },
  {
   "cell_type": "code",
   "execution_count": 18,
   "id": "5f4f4bdf-9107-4e7d-8e3d-4c7526675cbc",
   "metadata": {},
   "outputs": [
    {
     "name": "stderr",
     "output_type": "stream",
     "text": [
      "/tmp/ipykernel_44823/2261324578.py:3: RuntimeWarning: invalid value encountered in scalar divide\n",
      "  refundrate90days = (refund90days/charge90days)\n",
      "/tmp/ipykernel_44823/2261324578.py:4: RuntimeWarning: invalid value encountered in scalar divide\n",
      "  refundrate180days = (refund180days/charge180days)\n"
     ]
    }
   ],
   "source": [
    "# Check refund rate tifetime\n",
    "refundratelifetime = (refundtotal/chargetotal)\n",
    "refundrate90days = (refund90days/charge90days)\n",
    "refundrate180days = (refund180days/charge180days)"
   ]
  },
  {
   "cell_type": "code",
   "execution_count": 19,
   "id": "7651c700-8a67-4f2c-9536-56f7d6518694",
   "metadata": {},
   "outputs": [
    {
     "name": "stderr",
     "output_type": "stream",
     "text": [
      "/tmp/ipykernel_44823/1815949388.py:2: RuntimeWarning: invalid value encountered in scalar divide\n",
      "  chargebackrate90days = (chargeback90days/charge90days)\n",
      "/tmp/ipykernel_44823/1815949388.py:3: RuntimeWarning: invalid value encountered in scalar divide\n",
      "  chargebackrate180days = (chargeback180days/charge180days)\n"
     ]
    }
   ],
   "source": [
    "chargebackratelifetime = (chargebacktotal/chargetotal)\n",
    "chargebackrate90days = (chargeback90days/charge90days)\n",
    "chargebackrate180days = (chargeback180days/charge180days)"
   ]
  },
  {
   "cell_type": "code",
   "execution_count": 20,
   "id": "4890b951-4b3a-4b20-9322-e18a40f4fe5d",
   "metadata": {},
   "outputs": [
    {
     "name": "stderr",
     "output_type": "stream",
     "text": [
      "/tmp/ipykernel_44823/1134923467.py:1: FutureWarning: The provided callable <function sum at 0x7fe0d84471a0> is currently using SeriesGroupBy.sum. In a future version of pandas, the provided callable will be used directly. To keep current behavior pass the string \"sum\" instead.\n",
      "  pivottablenames = pd.pivot_table(df, index=['Customer_Name'], aggfunc={'Total': np.sum, 'Customer_Name': 'count',})\n"
     ]
    }
   ],
   "source": [
    "pivottablenames = pd.pivot_table(df, index=['Customer_Name'], aggfunc={'Total': np.sum, 'Customer_Name': 'count',})\n",
    "pivottablenames = pivottablenames.rename(columns={\"Customer_Name\": \"count_of_total\", \"Total\": \"sum_of_total\"})\n",
    "pivottablenames = pivottablenames.loc[:,['sum_of_total', 'count_of_total']]\n",
    "total_unique_customers = pivottablenames['sum_of_total'].count()\n"
   ]
  },
  {
   "cell_type": "code",
   "execution_count": 21,
   "id": "fcc0dd38-9f56-4199-b50c-76b4e6a6abde",
   "metadata": {},
   "outputs": [],
   "source": [
    "avg_transactions_count_per_customer = np.mean(pivottablenames['count_of_total'])\n",
    "avg_transactions_sum_per_customer = np.mean(pivottablenames['sum_of_total'])\n",
    "\n",
    "total_unique_customers = pivottablenames[\"sum_of_total\"].count()"
   ]
  },
  {
   "cell_type": "code",
   "execution_count": 22,
   "id": "74aa2344-ee3c-466e-8022-aacff58f5180",
   "metadata": {},
   "outputs": [
    {
     "name": "stderr",
     "output_type": "stream",
     "text": [
      "/tmp/ipykernel_44823/637751637.py:1: FutureWarning: The provided callable <function sum at 0x7fe0d84471a0> is currently using SeriesGroupBy.sum. In a future version of pandas, the provided callable will be used directly. To keep current behavior pass the string \"sum\" instead.\n",
      "  pivottabltransactiontype = pd.pivot_table(df, index=['Transaction_Type'], aggfunc={'Transaction_Type': 'count', 'Total': np.sum})\n",
      "/tmp/ipykernel_44823/637751637.py:3: FutureWarning: The provided callable <function sum at 0x7fe0d84471a0> is currently using SeriesGroupBy.sum. In a future version of pandas, the provided callable will be used directly. To keep current behavior pass the string \"sum\" instead.\n",
      "  pivottabltransactioncountry = pd.pivot_table(df, index=['Country'], aggfunc={'Country': 'count', 'Total': np.sum})\n"
     ]
    }
   ],
   "source": [
    "pivottabltransactiontype = pd.pivot_table(df, index=['Transaction_Type'], aggfunc={'Transaction_Type': 'count', 'Total': np.sum})\n",
    "pivottabltransactiontype['totalpercent'] = (pivottabltransactiontype['Total']/totalsum).apply('{:.2%}'.format)\n",
    "pivottabltransactioncountry = pd.pivot_table(df, index=['Country'], aggfunc={'Country': 'count', 'Total': np.sum})\n",
    "pivottabltransactioncountry['totalpercent'] = (pivottabltransactioncountry['Total']/totalsum).apply('{:.2%}'.format)\n"
   ]
  },
  {
   "cell_type": "code",
   "execution_count": 23,
   "id": "137fd968-3c89-4602-8d91-4306f5242064",
   "metadata": {},
   "outputs": [
    {
     "data": {
      "text/html": [
       "<div>\n",
       "<style scoped>\n",
       "    .dataframe tbody tr th:only-of-type {\n",
       "        vertical-align: middle;\n",
       "    }\n",
       "\n",
       "    .dataframe tbody tr th {\n",
       "        vertical-align: top;\n",
       "    }\n",
       "\n",
       "    .dataframe thead th {\n",
       "        text-align: right;\n",
       "    }\n",
       "</style>\n",
       "<table border=\"1\" class=\"dataframe\">\n",
       "  <thead>\n",
       "    <tr style=\"text-align: right;\">\n",
       "      <th></th>\n",
       "      <th>Country</th>\n",
       "      <th>Total</th>\n",
       "      <th>totalpercent</th>\n",
       "    </tr>\n",
       "    <tr>\n",
       "      <th>Country</th>\n",
       "      <th></th>\n",
       "      <th></th>\n",
       "      <th></th>\n",
       "    </tr>\n",
       "  </thead>\n",
       "  <tbody>\n",
       "    <tr>\n",
       "      <th>AU</th>\n",
       "      <td>1</td>\n",
       "      <td>3792</td>\n",
       "      <td>0.62%</td>\n",
       "    </tr>\n",
       "    <tr>\n",
       "      <th>UK</th>\n",
       "      <td>8</td>\n",
       "      <td>27967</td>\n",
       "      <td>4.57%</td>\n",
       "    </tr>\n",
       "    <tr>\n",
       "      <th>US</th>\n",
       "      <td>186</td>\n",
       "      <td>579744</td>\n",
       "      <td>94.81%</td>\n",
       "    </tr>\n",
       "  </tbody>\n",
       "</table>\n",
       "</div>"
      ],
      "text/plain": [
       "         Country   Total totalpercent\n",
       "Country                              \n",
       "AU             1    3792        0.62%\n",
       "UK             8   27967        4.57%\n",
       "US           186  579744       94.81%"
      ]
     },
     "execution_count": 23,
     "metadata": {},
     "output_type": "execute_result"
    }
   ],
   "source": [
    "pivottabltransactioncountry"
   ]
  },
  {
   "cell_type": "code",
   "execution_count": 24,
   "id": "0391a140-e6e0-4dcf-abde-aecabea996c4",
   "metadata": {},
   "outputs": [],
   "source": [
    "firstname = \"Patrick\"\n",
    "namefinal = df[df['Customer_Name'].str.contains(firstname, case=False)]"
   ]
  },
  {
   "cell_type": "code",
   "execution_count": 25,
   "id": "7861d409-4214-4529-b4fd-ce5569b373ec",
   "metadata": {},
   "outputs": [
    {
     "data": {
      "text/html": [
       "<div>\n",
       "<style scoped>\n",
       "    .dataframe tbody tr th:only-of-type {\n",
       "        vertical-align: middle;\n",
       "    }\n",
       "\n",
       "    .dataframe tbody tr th {\n",
       "        vertical-align: top;\n",
       "    }\n",
       "\n",
       "    .dataframe thead th {\n",
       "        text-align: right;\n",
       "    }\n",
       "</style>\n",
       "<table border=\"1\" class=\"dataframe\">\n",
       "  <thead>\n",
       "    <tr style=\"text-align: right;\">\n",
       "      <th></th>\n",
       "      <th>Total</th>\n",
       "      <th>Transaction_Type</th>\n",
       "      <th>Type</th>\n",
       "      <th>Country</th>\n",
       "      <th>Source</th>\n",
       "      <th>Day</th>\n",
       "      <th>Customer_Name</th>\n",
       "      <th>Success</th>\n",
       "      <th>Transaction_Notes</th>\n",
       "    </tr>\n",
       "  </thead>\n",
       "  <tbody>\n",
       "  </tbody>\n",
       "</table>\n",
       "</div>"
      ],
      "text/plain": [
       "Empty DataFrame\n",
       "Columns: [Total, Transaction_Type, Type, Country, Source, Day, Customer_Name, Success, Transaction_Notes]\n",
       "Index: []"
      ]
     },
     "execution_count": 25,
     "metadata": {},
     "output_type": "execute_result"
    }
   ],
   "source": [
    "namefinal"
   ]
  },
  {
   "cell_type": "code",
   "execution_count": 26,
   "id": "14d1d27a-bc47-47f0-a928-a304c0986305",
   "metadata": {},
   "outputs": [],
   "source": [
    "payment_note = df[df['Transaction_Notes'].isna() == False]\n",
    "flagged_words = 'raffle|razz|lottery'\n",
    "payment_note_final = payment_note[payment_note['Transaction_Notes'].str.contains(flagged_words, case=False)]\n"
   ]
  },
  {
   "cell_type": "code",
   "execution_count": 27,
   "id": "fea7fbd5-2214-47fb-9dc6-ca810574da44",
   "metadata": {},
   "outputs": [
    {
     "data": {
      "text/html": [
       "<div>\n",
       "<style scoped>\n",
       "    .dataframe tbody tr th:only-of-type {\n",
       "        vertical-align: middle;\n",
       "    }\n",
       "\n",
       "    .dataframe tbody tr th {\n",
       "        vertical-align: top;\n",
       "    }\n",
       "\n",
       "    .dataframe thead th {\n",
       "        text-align: right;\n",
       "    }\n",
       "</style>\n",
       "<table border=\"1\" class=\"dataframe\">\n",
       "  <thead>\n",
       "    <tr style=\"text-align: right;\">\n",
       "      <th></th>\n",
       "      <th>Total</th>\n",
       "      <th>Transaction_Type</th>\n",
       "      <th>Type</th>\n",
       "      <th>Country</th>\n",
       "      <th>Source</th>\n",
       "      <th>Day</th>\n",
       "      <th>Customer_Name</th>\n",
       "      <th>Success</th>\n",
       "      <th>Transaction_Notes</th>\n",
       "    </tr>\n",
       "  </thead>\n",
       "  <tbody>\n",
       "    <tr>\n",
       "      <th>101</th>\n",
       "      <td>4996</td>\n",
       "      <td>Goods and Services</td>\n",
       "      <td>Charge</td>\n",
       "      <td>US</td>\n",
       "      <td>Desktop</td>\n",
       "      <td>2023-05-01</td>\n",
       "      <td>Benjamin</td>\n",
       "      <td>1</td>\n",
       "      <td>Thank you</td>\n",
       "    </tr>\n",
       "    <tr>\n",
       "      <th>122</th>\n",
       "      <td>4993</td>\n",
       "      <td>Goods and Services</td>\n",
       "      <td>Charge</td>\n",
       "      <td>US</td>\n",
       "      <td>Tablet</td>\n",
       "      <td>2023-05-17</td>\n",
       "      <td>Chloe</td>\n",
       "      <td>1</td>\n",
       "      <td>Thanks</td>\n",
       "    </tr>\n",
       "    <tr>\n",
       "      <th>144</th>\n",
       "      <td>4990</td>\n",
       "      <td>Goods and Services</td>\n",
       "      <td>Charge</td>\n",
       "      <td>US</td>\n",
       "      <td>Desktop</td>\n",
       "      <td>2023-06-08</td>\n",
       "      <td>Elizabeth</td>\n",
       "      <td>1</td>\n",
       "      <td>Thank you</td>\n",
       "    </tr>\n",
       "    <tr>\n",
       "      <th>116</th>\n",
       "      <td>4971</td>\n",
       "      <td>Friends &amp; Family</td>\n",
       "      <td>Charge</td>\n",
       "      <td>US</td>\n",
       "      <td>Desktop</td>\n",
       "      <td>2023-05-16</td>\n",
       "      <td>Daniel</td>\n",
       "      <td>1</td>\n",
       "      <td>N/A</td>\n",
       "    </tr>\n",
       "    <tr>\n",
       "      <th>41</th>\n",
       "      <td>4966</td>\n",
       "      <td>Friends &amp; Family</td>\n",
       "      <td>Refund</td>\n",
       "      <td>US</td>\n",
       "      <td>Phone</td>\n",
       "      <td>2023-02-16</td>\n",
       "      <td>Emily</td>\n",
       "      <td>1</td>\n",
       "      <td>Razz</td>\n",
       "    </tr>\n",
       "    <tr>\n",
       "      <th>...</th>\n",
       "      <td>...</td>\n",
       "      <td>...</td>\n",
       "      <td>...</td>\n",
       "      <td>...</td>\n",
       "      <td>...</td>\n",
       "      <td>...</td>\n",
       "      <td>...</td>\n",
       "      <td>...</td>\n",
       "      <td>...</td>\n",
       "    </tr>\n",
       "    <tr>\n",
       "      <th>75</th>\n",
       "      <td>1105</td>\n",
       "      <td>Goods and Services</td>\n",
       "      <td>Charge</td>\n",
       "      <td>US</td>\n",
       "      <td>Phone</td>\n",
       "      <td>2023-03-27</td>\n",
       "      <td>Noah</td>\n",
       "      <td>1</td>\n",
       "      <td>Thank you</td>\n",
       "    </tr>\n",
       "    <tr>\n",
       "      <th>34</th>\n",
       "      <td>1085</td>\n",
       "      <td>Goods and Services</td>\n",
       "      <td>Charge</td>\n",
       "      <td>US</td>\n",
       "      <td>Desktop</td>\n",
       "      <td>2023-02-06</td>\n",
       "      <td>Joseph</td>\n",
       "      <td>1</td>\n",
       "      <td>Thanks</td>\n",
       "    </tr>\n",
       "    <tr>\n",
       "      <th>96</th>\n",
       "      <td>1055</td>\n",
       "      <td>Goods and Services</td>\n",
       "      <td>Refund</td>\n",
       "      <td>US</td>\n",
       "      <td>Desktop</td>\n",
       "      <td>2023-04-26</td>\n",
       "      <td>Sofia</td>\n",
       "      <td>1</td>\n",
       "      <td>Thank you</td>\n",
       "    </tr>\n",
       "    <tr>\n",
       "      <th>13</th>\n",
       "      <td>1047</td>\n",
       "      <td>Friends &amp; Family</td>\n",
       "      <td>Refund</td>\n",
       "      <td>US</td>\n",
       "      <td>Phone</td>\n",
       "      <td>2023-01-18</td>\n",
       "      <td>Harper</td>\n",
       "      <td>1</td>\n",
       "      <td>Thanks</td>\n",
       "    </tr>\n",
       "    <tr>\n",
       "      <th>8</th>\n",
       "      <td>450</td>\n",
       "      <td>Friends &amp; Family</td>\n",
       "      <td>Charge</td>\n",
       "      <td>US</td>\n",
       "      <td>Phone</td>\n",
       "      <td>2023-01-13</td>\n",
       "      <td>William</td>\n",
       "      <td>1</td>\n",
       "      <td>Lottery</td>\n",
       "    </tr>\n",
       "  </tbody>\n",
       "</table>\n",
       "<p>195 rows × 9 columns</p>\n",
       "</div>"
      ],
      "text/plain": [
       "     Total    Transaction_Type    Type Country   Source        Day  \\\n",
       "101   4996  Goods and Services  Charge      US  Desktop 2023-05-01   \n",
       "122   4993  Goods and Services  Charge      US   Tablet 2023-05-17   \n",
       "144   4990  Goods and Services  Charge      US  Desktop 2023-06-08   \n",
       "116   4971    Friends & Family  Charge      US  Desktop 2023-05-16   \n",
       "41    4966    Friends & Family  Refund      US    Phone 2023-02-16   \n",
       "..     ...                 ...     ...     ...      ...        ...   \n",
       "75    1105  Goods and Services  Charge      US    Phone 2023-03-27   \n",
       "34    1085  Goods and Services  Charge      US  Desktop 2023-02-06   \n",
       "96    1055  Goods and Services  Refund      US  Desktop 2023-04-26   \n",
       "13    1047    Friends & Family  Refund      US    Phone 2023-01-18   \n",
       "8      450    Friends & Family  Charge      US    Phone 2023-01-13   \n",
       "\n",
       "    Customer_Name  Success Transaction_Notes  \n",
       "101      Benjamin        1        Thank you   \n",
       "122         Chloe        1            Thanks  \n",
       "144     Elizabeth        1        Thank you   \n",
       "116        Daniel        1               N/A  \n",
       "41          Emily        1              Razz  \n",
       "..            ...      ...               ...  \n",
       "75           Noah        1        Thank you   \n",
       "34         Joseph        1            Thanks  \n",
       "96          Sofia        1        Thank you   \n",
       "13         Harper        1            Thanks  \n",
       "8         William        1           Lottery  \n",
       "\n",
       "[195 rows x 9 columns]"
      ]
     },
     "execution_count": 27,
     "metadata": {},
     "output_type": "execute_result"
    }
   ],
   "source": [
    "highticketval = 300\n",
    "highticket = df[df['Total'] >= highticketval].copy()\n",
    "highticket = highticket.sort_values(by='Total', ascending=False)\n",
    "highticket"
   ]
  },
  {
   "cell_type": "code",
   "execution_count": 28,
   "id": "138e2359-a081-48ba-a7a5-a4f5e362a6b1",
   "metadata": {},
   "outputs": [],
   "source": [
    "dup = df.copy()\n",
    "\n",
    "dup['Customer_Name_next'] = dup['Customer_Name'].shift(1)\n",
    "dup['Customer_Name_prev'] = dup['Customer_Name'].shift(-1)\n",
    "\n",
    "dup['created_at_day'] = dup['Day']\n",
    "dup['created_at_dayprev'] = dup['Day'].shift(-1)\n",
    "dup['created_at_daynext'] = dup['Day'].shift(1)\n",
    "\n",
    "dup3 = dup.query('(created_at_day == created_at_dayprev | created_at_day == created_at_daynext) & (Customer_Name == Customer_Name_next | Customer_Name == Customer_Name_prev)')\n"
   ]
  },
  {
   "cell_type": "code",
   "execution_count": 29,
   "id": "c681d1d2-d54b-4deb-9633-59b5536a3e7a",
   "metadata": {},
   "outputs": [],
   "source": [
    "dfcalc = pd.DataFrame({'totalsum':[totalsum],\n",
    "                           'mean_transaction':[mean_transaction],\n",
    "                           'median_transaction':[median_transaction], \n",
    "                           'max_transaction':[max_transaction],\n",
    "                           'total_transactions':[total_transactions],\n",
    "                           'chargetotal':[chargetotal],\n",
    "                           'charge90days':[charge90days],\n",
    "                           'charge180days':[charge180days],\n",
    "                           'refundtotal':[refundtotal],\n",
    "                           'refund90days':[refund90days],\n",
    "                           'refund180days':[refund180days],\n",
    "                           'refundratelifetime':[refundratelifetime],\n",
    "                           'refundrate90days':[refundrate90days],\n",
    "                           'refundrate180days':[refundrate180days],\n",
    "                           'chargebacktotal':[chargebacktotal],\n",
    "                           'chargeback90days':[chargeback90days],\n",
    "                           'chargeback180days':[chargeback180days],\n",
    "                           'chargebackratelifetime':[chargebackratelifetime],\n",
    "                           'chargebackrate90days':[chargebackrate90days],\n",
    "                           'chargebackrate180days':[chargebackrate180days],\n",
    "                           #'total_unique_customers':[total_unique_customers],                      \n",
    "                           'avg_transactions_count_per_customer':[avg_transactions_count_per_customer],\n",
    "                           'avg_transactions_sum_per_customer':[avg_transactions_sum_per_customer],\n",
    "                           '90 Days':[days90],\n",
    "                           '180 Days':[days180],\n",
    "                        })"
   ]
  },
  {
   "cell_type": "code",
   "execution_count": 30,
   "id": "c8dd561c-5a36-4ad9-86cc-6fe73b3a05a4",
   "metadata": {},
   "outputs": [],
   "source": [
    "format_mapping = {\"totalsum\": '${:,.2f}',\n",
    "                  \"mean_transaction\": '${:,.2f}',\n",
    "                  \"median_transaction\": '${:,.2f}',\n",
    "                  \"max_transaction\": '${:,.2f}',\n",
    "                  \"total_transactions\": '{:,.0f}', \n",
    "                  'chargetotal': '${:,.2f}',\n",
    "                  'charge90days': '${:,.2f}',\n",
    "                  'charge180days': '${:,.2f}',\n",
    "                  'refundtotal': '${:,.2f}',\n",
    "                  'refund90days': '${:,.2f}',\n",
    "                  'refund180days': '${:,.2f}',\n",
    "                  'refundratelifetime':'{:.2%}',\n",
    "                  'refundrate90days':'{:.2%}',\n",
    "                  'refundrate180days':'{:.2%}',\n",
    "                  'chargebacktotal':'${:,.2f}',\n",
    "                  'chargeback90days':'${:,.2f}',\n",
    "                  'chargeback180days':'${:,.2f}',\n",
    "                  'chargebackratelifetime':'{:.2%}',\n",
    "                  'chargebackrate90days':'{:.2%}',\n",
    "                  'chargebackrate180days':'{:.2%}',\n",
    "                 # \"total_unique_customers\": '{:,.0f}',\n",
    "                  \"avg_transactions_count_per_customer\": '{:,.2f}',\n",
    "                  \"avg_transactions_sum_per_customer\": '${:,.2f}',                  \n",
    "                    }\n"
   ]
  },
  {
   "cell_type": "code",
   "execution_count": 31,
   "id": "00fead82-698d-4b86-8a30-a68d976d1600",
   "metadata": {},
   "outputs": [],
   "source": [
    "for key, value in format_mapping.items():\n",
    "            dfcalc[key] = dfcalc[key].apply(value.format)\n"
   ]
  },
  {
   "cell_type": "code",
   "execution_count": null,
   "id": "360d2218-3e0f-4a01-8c66-7706f178c5d6",
   "metadata": {},
   "outputs": [],
   "source": []
  }
 ],
 "metadata": {
  "kernelspec": {
   "display_name": "Python 3 (ipykernel)",
   "language": "python",
   "name": "python3"
  },
  "language_info": {
   "codemirror_mode": {
    "name": "ipython",
    "version": 3
   },
   "file_extension": ".py",
   "mimetype": "text/x-python",
   "name": "python",
   "nbconvert_exporter": "python",
   "pygments_lexer": "ipython3",
   "version": "3.12.2"
  }
 },
 "nbformat": 4,
 "nbformat_minor": 5
}
